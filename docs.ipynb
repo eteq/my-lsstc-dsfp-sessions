{
 "cells": [
  {
   "cell_type": "code",
   "execution_count": null,
   "metadata": {
    "collapsed": true
   },
   "outputs": [],
   "source": [
    "from __future__ import print_function, division, absolute_import"
   ]
  },
  {
   "cell_type": "markdown",
   "metadata": {},
   "source": [
    "# Code Repositories\n",
    "\n",
    "**Version 0.1**\n",
    "\n",
    "The notebook contains problems for documenting code.\n",
    "\n",
    "These probablems assume you've done the \"code repo\" problem set, or otherwise are familiar with code repositories and packaging enough to have a functioning test repository with a Python package.\n",
    "\n",
    "* * *\n",
    "\n",
    "E Tollerud (STScI)"
   ]
  },
  {
   "cell_type": "markdown",
   "metadata": {},
   "source": [
    "# Problem 1: Making and using docstrings"
   ]
  },
  {
   "cell_type": "markdown",
   "metadata": {},
   "source": [
    "One of Python's most powerful documentation tools are docstrings.  These are basically just little strings you put at the top of a class, function, or similar, which then gets bound as sort of a glorified comment.  But with internal consistency and tenacity, these can do most of the work you need to document your code.\n",
    "\n",
    "Note that all of this problem *can* be done in the notebook, and it is shown that way to make the notebook internally consistent.  But you might find it more useful to use a function from your code repository, as that makes it clearer why docstrings are useful (i.e., the code is not immediately visible, as it is in the notebook)."
   ]
  },
  {
   "cell_type": "markdown",
   "metadata": {},
   "source": [
    "### 1a: Create a function with a docstring"
   ]
  },
  {
   "cell_type": "markdown",
   "metadata": {},
   "source": [
    "Make a function (or just use one from your pre-existing repo) and give it a docstring.   The docstring can be anything in principal, but the example case below shows one of the most standard conventions used for scientific Python code. (The format originated in [numpy](https://github.com/numpy/numpy/blob/master/doc/HOWTO_DOCUMENT.rst.txt), although with some \"flavors\" like that in [astropy](http://docs.astropy.org/en/stable/development/docguide.html).)\n",
    "\n",
    "*Hint: you might want to keep the code part of your function secret from your neighbor, as it will reduce the work for 1c if you do so*"
   ]
  },
  {
   "cell_type": "code",
   "execution_count": null,
   "metadata": {
    "collapsed": true
   },
   "outputs": [],
   "source": [
    "def do_something(arg1, arg2):\n",
    "    \"\"\"\n",
    "    A short sentence describing what this function does.\n",
    "    \n",
    "    More description\n",
    "    \n",
    "    Parameters\n",
    "    ----------\n",
    "    arg1 : type1\n",
    "        Description of the parameter ``arg1``\n",
    "    arg2 : type2\n",
    "        Description of the parameter ``arg2``\n",
    "        \n",
    "    Returns\n",
    "    -------\n",
    "    type of return value (e.g. int, float, string, etc.)\n",
    "        A description of the thing the function returns (if anything)\n",
    "    \"\"\" # complete\n",
    "    # complete"
   ]
  },
  {
   "cell_type": "markdown",
   "metadata": {},
   "source": [
    "### 1b: Access the docstring from within Python"
   ]
  },
  {
   "cell_type": "markdown",
   "metadata": {},
   "source": [
    "It turns out that docstrings are more than just strings sitting un-used inside a function: they are associated with and carried around as a part of the function.  This means you can access them in useful ways even if you don't have the code right in front of you.  Explore some of the ways available to look at your function's docstring. Try the various ways below and consider which seems most useful in various contexts."
   ]
  },
  {
   "cell_type": "code",
   "execution_count": null,
   "metadata": {
    "collapsed": false
   },
   "outputs": [],
   "source": [
    "do_something.__doc__"
   ]
  },
  {
   "cell_type": "code",
   "execution_count": null,
   "metadata": {
    "collapsed": false
   },
   "outputs": [],
   "source": [
    "help(do_something)"
   ]
  },
  {
   "cell_type": "code",
   "execution_count": null,
   "metadata": {
    "collapsed": true
   },
   "outputs": [],
   "source": [
    "do_something?"
   ]
  },
  {
   "cell_type": "markdown",
   "metadata": {},
   "source": [
    "### 1c: Share your docstring"
   ]
  },
  {
   "cell_type": "markdown",
   "metadata": {},
   "source": [
    "Using either the function you just wrote or a new one (if you've already shown the function to your neighbor), try to communicate the essentials of your function enough for your neighbor to use the function.  That is, have your neighbor run your function (and do something with the output) using *only* the information in the docstring.\n",
    "\n",
    "No peeking at the code!  One way to ensure this is to put the function in your github repo and have your neighbor pull down the updates and import the code directly.  Or you can just type your function higher in the notebook and scroll down without your neighbor looking.\n",
    "\n",
    "Rinse and repeat for *you* looking at your *neighbor*'s code."
   ]
  },
  {
   "cell_type": "code",
   "execution_count": null,
   "metadata": {
    "collapsed": true
   },
   "outputs": [],
   "source": [
    "from your_neighbors_package import your_neighbors_code # complete\n",
    "\n",
    "your_neighbors_code? # complete"
   ]
  },
  {
   "cell_type": "code",
   "execution_count": null,
   "metadata": {
    "collapsed": true
   },
   "outputs": [],
   "source": [
    "... = your_neighbors_code(...)\n",
    "...  # complete"
   ]
  },
  {
   "cell_type": "markdown",
   "metadata": {},
   "source": [
    "### 1d: Write a class docstring"
   ]
  },
  {
   "cell_type": "markdown",
   "metadata": {},
   "source": [
    "Try making a docstring for a *class*.  This is quite similar to a function, but with some subtle difference (as detailed in the template below)."
   ]
  },
  {
   "cell_type": "code",
   "execution_count": null,
   "metadata": {
    "collapsed": true
   },
   "outputs": [],
   "source": [
    "class MyClass:  # if you're using Py2, you'll want to do \"MyClass(object)\"\n",
    "    \"\"\"\n",
    "    A short description of the class.\n",
    "    \n",
    "    Possibly some extended description, notes on how to sub-class, etc.\n",
    "    \n",
    "    Parameters\n",
    "    ----------\n",
    "    arg1 : type\n",
    "        Describe the first argument of the initializer\n",
    "    arg2 : type\n",
    "        Describe the second argument of the initializer\n",
    "    \"\"\"\n",
    "    def __init__(self, arg1 arg2):\n",
    "        # note that the initializer gets *no* docstring, because it's in the class docs\n",
    "        #complete\n",
    "        \n",
    "    def some_method(self, method_arg):\n",
    "        \"\"\"\n",
    "        A short description of the method.\n",
    "        \n",
    "        Possibly extended description.\n",
    "        \n",
    "        Parameters\n",
    "        ----------\n",
    "        method_arg : type\n",
    "            A description of the method's first (non-self) argument.\n",
    "            \n",
    "        Returns\n",
    "        -------\n",
    "        return type\n",
    "            Description of the return value (if any)\n",
    "        \"\"\"\n",
    "        #complete"
   ]
  },
  {
   "cell_type": "markdown",
   "metadata": {},
   "source": [
    "### 1e: Write a docstring for your modules (and package)"
   ]
  },
  {
   "cell_type": "markdown",
   "metadata": {},
   "source": [
    "Add a docstring to the module and packages in your repository.  This is usually just free-form text (not as much structure as a function or class), although you might include some structure like section headings or bullet-pointed lists.  Once you've done that (and reloaded or restarted the kernel), the commands below should pop up your documentation.\n",
    "\n",
    "*Hint: remember that a package's ``__init__.py`` file acts sort of like the \"package.py\" file for the package*"
   ]
  },
  {
   "cell_type": "code",
   "execution_count": null,
   "metadata": {
    "collapsed": true
   },
   "outputs": [],
   "source": [
    "import <mypackage>  #complete\n",
    "\n",
    "<mypackage>?  #complete"
   ]
  },
  {
   "cell_type": "code",
   "execution_count": null,
   "metadata": {
    "collapsed": true
   },
   "outputs": [],
   "source": [
    "from <mypackage> import <mymodule>  #complete\n",
    "\n",
    "<mymodule>?  #complete"
   ]
  },
  {
   "cell_type": "markdown",
   "metadata": {},
   "source": [
    "# Problem 2: Building your Docs with Sphinx"
   ]
  },
  {
   "cell_type": "markdown",
   "metadata": {},
   "source": [
    "Intro"
   ]
  },
  {
   "cell_type": "markdown",
   "metadata": {},
   "source": [
    "### 2a: title"
   ]
  },
  {
   "cell_type": "markdown",
   "metadata": {},
   "source": [
    "Text\n",
    "\n",
    "*Hint: hint*"
   ]
  },
  {
   "cell_type": "code",
   "execution_count": null,
   "metadata": {
    "collapsed": true
   },
   "outputs": [],
   "source": []
  },
  {
   "cell_type": "markdown",
   "metadata": {},
   "source": [
    "### 2a: title"
   ]
  },
  {
   "cell_type": "markdown",
   "metadata": {},
   "source": [
    "Text\n",
    "\n",
    "*Hint: hint*"
   ]
  },
  {
   "cell_type": "code",
   "execution_count": null,
   "metadata": {
    "collapsed": true
   },
   "outputs": [],
   "source": []
  },
  {
   "cell_type": "markdown",
   "metadata": {},
   "source": [
    "### 2z: inheritance diagram"
   ]
  },
  {
   "cell_type": "markdown",
   "metadata": {},
   "source": [
    "Text\n",
    "\n",
    "*Hint: hint*"
   ]
  },
  {
   "cell_type": "code",
   "execution_count": null,
   "metadata": {
    "collapsed": true
   },
   "outputs": [],
   "source": []
  },
  {
   "cell_type": "markdown",
   "metadata": {},
   "source": [
    "# Problem 3: Building your docs on Read the Docs"
   ]
  },
  {
   "cell_type": "markdown",
   "metadata": {},
   "source": [
    "[Read the Docs](http://readthedocs.org/) is an online service that automatically builds documentation for public projects.  In this problem, we will set up the repo that you just got sphinx working in to generate its documentation on RTD."
   ]
  },
  {
   "cell_type": "markdown",
   "metadata": {},
   "source": [
    "### 3a: Register for a Read the Docs account"
   ]
  },
  {
   "cell_type": "markdown",
   "metadata": {},
   "source": [
    "You'll need an RTD account to be able to do anything with it, of course.  Go to the [Read the Docs front page](http://readthedocs.org/), and you should see a \"sign up\" button on the upper right.  Use that to create an account."
   ]
  },
  {
   "cell_type": "markdown",
   "metadata": {},
   "source": [
    "### 3b: Add your github repo to your RTD account"
   ]
  },
  {
   "cell_type": "markdown",
   "metadata": {},
   "source": [
    "RTD can automatically read your github repos if you authorize it to connect to Github, and is often smart enough to do the right thing in one click.  You may need to go to your account settings->connected services page and \"Connect to Github\" to get this to work.  Once you've done that, go to your RTD dashboard (click on your username in the upper-right) and \"Import a Project\".  If the github sync worked, you should see your project.\n",
    "\n",
    "Alternatively, you can choose the \"Import Manually\" option, where you have to manually provide the name and github repo URL."
   ]
  },
  {
   "cell_type": "markdown",
   "metadata": {},
   "source": [
    "### 3c: wait for your docs to build"
   ]
  },
  {
   "cell_type": "markdown",
   "metadata": {},
   "source": [
    "RTD takes a bit of time to build. You can watch the progress by going to the project you just created in your dashboard and hitting the \"builds\" button.  But all you really can do about it is wait until it finishes.\n",
    "\n",
    "*Hint: Maybe you'd like some refreshing tea in the meantime?  I believe there's some in the back.*"
   ]
  },
  {
   "cell_type": "markdown",
   "metadata": {},
   "source": [
    "### 3d: Check that the docs look right"
   ]
  },
  {
   "cell_type": "markdown",
   "metadata": {},
   "source": [
    "Once the build finishes, have a look at your doc page and see if it looks like you think it should.  RTD will sometimes succeed in building even though something went wrong on a page, so it's usually worth a look at any significant changes from the last build."
   ]
  },
  {
   "cell_type": "markdown",
   "metadata": {},
   "source": [
    "### 3e: Set up the web hook to recognize when github changes come in"
   ]
  },
  {
   "cell_type": "markdown",
   "metadata": {},
   "source": [
    "RTD is at its most powerful when you have it run automatically.  To do this, you need to set up a \"web hook\" that tells RTD when a new commit is sent up to github. You may already be seeing a message in your dashboard warning you that \"This repository doesn't have a valid webhook set up\".  If so, try clicking the link there that is supposed to set the hook up automatically.  Sometimes this doesn't work, though.  In that case you can [follow RTD's instructions for doing it manually](http://docs.readthedocs.io/en/latest/webhooks.html)."
   ]
  },
  {
   "cell_type": "markdown",
   "metadata": {},
   "source": [
    "### 3f: Send a commit to github and watch the gears turn"
   ]
  },
  {
   "cell_type": "markdown",
   "metadata": {},
   "source": [
    "Now try making a change to your documentation and pushing it up to github.  You should see RTD spring into action, and after a bit, your is automatically appears on your RTD docs site!"
   ]
  },
  {
   "cell_type": "markdown",
   "metadata": {},
   "source": [
    "## Challenge Problem: Use the doc tools built into the Astropy Affiliated Package Template"
   ]
  },
  {
   "cell_type": "markdown",
   "metadata": {},
   "source": [
    "The Astropy [package template](https://github.com/astropy/package-template) (discussed in a previous challenge problem) contains all the machinery necessary to build documentation just like Astropy.  One particularly useful tool is the `automodapi` machinery, which lets you do:\n",
    "```\n",
    ".. automodapi:: mypackage\n",
    "```\n",
    "in the sphinx, and if you have docstrings (in the format expected), it will *automatically* generated pages like [this one](http://docs.astropy.org/en/stable/units/index.html#reference-api).  \n",
    "\n",
    "For this problem try to adapt the affiliated package template to your package, and use it to generate an API section.  Note that you can also try using `automodapi` on its own (it can be used independently by installing the [stand-alone version](https://github.com/astropy/sphinx-automodapi)), but it's probably easier to just use it from the template."
   ]
  },
  {
   "cell_type": "code",
   "execution_count": null,
   "metadata": {
    "collapsed": true
   },
   "outputs": [],
   "source": []
  }
 ],
 "metadata": {
  "anaconda-cloud": {},
  "kernelspec": {
   "display_name": "Python [default]",
   "language": "python",
   "name": "python3"
  },
  "language_info": {
   "codemirror_mode": {
    "name": "ipython",
    "version": 3
   },
   "file_extension": ".py",
   "mimetype": "text/x-python",
   "name": "python",
   "nbconvert_exporter": "python",
   "pygments_lexer": "ipython3",
   "version": "3.5.2"
  }
 },
 "nbformat": 4,
 "nbformat_minor": 2
}
